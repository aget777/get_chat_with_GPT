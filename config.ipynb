{
 "cells": [
  {
   "cell_type": "code",
   "execution_count": 7,
   "id": "d6e098d6",
   "metadata": {},
   "outputs": [],
   "source": [
    "import os\n",
    "\n",
    "# указываем путь к папке, в которой храняться файлы с доступами\n",
    "file_path = os.path.join(os.getcwd(), 'cred')"
   ]
  },
  {
   "cell_type": "code",
   "execution_count": null,
   "id": "5646a688",
   "metadata": {},
   "outputs": [],
   "source": [
    "# указываем название файла с токеном для chatGPT\n",
    "gpt_file_name = 'chat_gpt_api_token_igronik.txt'\n",
    "# сохраняем токен в отдельную переменную\n",
    "chat_gpt_api_key = open(os.path.join(file_path, gpt_file_name), encoding='utf-8').read()"
   ]
  },
  {
   "cell_type": "code",
   "execution_count": 23,
   "id": "7ecf4a79",
   "metadata": {},
   "outputs": [],
   "source": [
    "# указываем название файла с доступами к БД \n",
    "# там прописаны след. доступы\n",
    "# server - адрес сервера\n",
    "# port - номер порта(опционально), по умолчанию используем 3306\n",
    "# database - название базы данных\n",
    "# login - логин\n",
    "# password - пароль\n",
    "\n",
    "db_file_name = 'db_creds.txt'\n",
    "# забираем доступы из файла и формируем список (каждый элемнет списка - это один параметр server, port  и тд.)\n",
    "db_creds_list = open(os.path.join(file_path, db_file_name), encoding='utf-8').read().split('\\n')\n",
    "\n",
    "# создаем пустой словарь, чтобы преобразовать список в нормальный набор доступов\n",
    "db_creds_dict = {}\n",
    "for name in db_creds_list:\n",
    "#     достаем каждый отдельный элемнт списка\n",
    "# убираем кавычки / разделяем строку по разделителю / получаем список из 2-х элементов \n",
    "# первый элемент - это ключ / второй элемент - это значение\n",
    "    tmp_lst = name.replace(\"'\", \"\").split(' = ')\n",
    "    db_creds_dict[tmp_lst[0]] = tmp_lst[1]\n",
    "\n",
    "# разбираем словарь на переменные\n",
    "server = db_creds_dict['server']\n",
    "port = db_creds_dict['port']\n",
    "database = db_creds_dict['database']\n",
    "login = db_creds_dict['login']\n",
    "password = db_creds_dict['passw']"
   ]
  },
  {
   "cell_type": "code",
   "execution_count": null,
   "id": "7ccfe9c7",
   "metadata": {},
   "outputs": [],
   "source": []
  },
  {
   "cell_type": "code",
   "execution_count": null,
   "id": "56277b4f",
   "metadata": {},
   "outputs": [],
   "source": []
  }
 ],
 "metadata": {
  "kernelspec": {
   "display_name": "Python 3 (ipykernel)",
   "language": "python",
   "name": "python3"
  },
  "language_info": {
   "codemirror_mode": {
    "name": "ipython",
    "version": 3
   },
   "file_extension": ".py",
   "mimetype": "text/x-python",
   "name": "python",
   "nbconvert_exporter": "python",
   "pygments_lexer": "ipython3",
   "version": "3.11.3"
  }
 },
 "nbformat": 4,
 "nbformat_minor": 5
}
