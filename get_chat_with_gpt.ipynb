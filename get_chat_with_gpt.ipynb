{
 "cells": [
  {
   "cell_type": "code",
   "execution_count": 1,
   "id": "b94a3166",
   "metadata": {},
   "outputs": [],
   "source": [
    "from openai import OpenAI\n",
    "import mysql.connector as connection\n",
    "import pandas as pd\n",
    "import warnings\n",
    "from datetime import datetime\n",
    "import os\n",
    "import pyodbc\n",
    "import warnings\n",
    "import requests\n",
    "from IPython.display import Audio\n",
    "\n",
    "from func_MySQL_DB import *\n",
    "from func_ChatGPT import *\n",
    "from func_visualizations import *\n",
    "import config \n",
    "\n",
    "# забираем параметры подключения к БД\n",
    "server = config.server\n",
    "port = config.port\n",
    "database = config.database\n",
    "login = config.login\n",
    "passw = config.password"
   ]
  },
  {
   "cell_type": "code",
   "execution_count": 2,
   "id": "db7fc31f",
   "metadata": {},
   "outputs": [],
   "source": [
    "file_path = os.getcwd()\n",
    "usage_file_name = 'chat_gpt_costs.xlsx'\n",
    "usage_path = os.path.join(file_path, usage_file_name)\n",
    "\n",
    "pricing_file_name = 'chatGPT_pricing_18112024.xlsx'\n",
    "pricing_path = os.path.join(file_path, pricing_file_name)\n",
    "\n",
    "billing_file_name = 'billing_history.xlsx'\n",
    "biling_path = os.path.join(file_path, billing_file_name)"
   ]
  },
  {
   "cell_type": "code",
   "execution_count": null,
   "id": "b20b4712",
   "metadata": {},
   "outputs": [],
   "source": [
    "user_question = \"Какие расходы без ндс за весь период?\""
   ]
  },
  {
   "cell_type": "code",
   "execution_count": null,
   "id": "1a649e99",
   "metadata": {},
   "outputs": [],
   "source": [
    "sql_answer = get_sql_chain(user_question).replace('\\n', ' ')"
   ]
  },
  {
   "cell_type": "code",
   "execution_count": null,
   "id": "a897cead",
   "metadata": {},
   "outputs": [],
   "source": [
    "# sql_answer = 'SELECT age, SUM(costs_without_nds) AS total_costs_without_nds FROM yd_05_01_main_without_conv GROUP BY age;'"
   ]
  },
  {
   "cell_type": "code",
   "execution_count": null,
   "id": "3e62dd2a",
   "metadata": {},
   "outputs": [],
   "source": [
    "sql_answer"
   ]
  },
  {
   "cell_type": "code",
   "execution_count": null,
   "id": "ea9505cc",
   "metadata": {},
   "outputs": [],
   "source": [
    "df = get_dataframe(server, database, login, passw, sql_answer, port)"
   ]
  },
  {
   "cell_type": "code",
   "execution_count": null,
   "id": "12dad695",
   "metadata": {},
   "outputs": [],
   "source": [
    "df.columns"
   ]
  },
  {
   "cell_type": "code",
   "execution_count": null,
   "id": "8668c3e7",
   "metadata": {},
   "outputs": [],
   "source": [
    "get_visual_bar(df, 'age', 'total_costs_without_nds')"
   ]
  },
  {
   "cell_type": "code",
   "execution_count": null,
   "id": "d533085b",
   "metadata": {},
   "outputs": [],
   "source": []
  },
  {
   "cell_type": "code",
   "execution_count": null,
   "id": "b339e1c1",
   "metadata": {},
   "outputs": [],
   "source": [
    "user_question = \"Какие расходы без ндс были за весь период?Напиши цифры прописью\""
   ]
  },
  {
   "cell_type": "code",
   "execution_count": null,
   "id": "743c3038",
   "metadata": {},
   "outputs": [],
   "source": [
    "gpt_answer = get_db_answer(user_question)"
   ]
  },
  {
   "cell_type": "code",
   "execution_count": null,
   "id": "c2621675",
   "metadata": {},
   "outputs": [],
   "source": [
    "gpt_answer"
   ]
  },
  {
   "cell_type": "code",
   "execution_count": null,
   "id": "c08cbc96",
   "metadata": {},
   "outputs": [],
   "source": [
    "file_path = os.path.join(os.getcwd(), \"speech.mp3\")"
   ]
  },
  {
   "cell_type": "code",
   "execution_count": null,
   "id": "52ebcc71",
   "metadata": {},
   "outputs": [],
   "source": [
    "get_voice_gpt(gpt_answer, file_path)"
   ]
  },
  {
   "cell_type": "code",
   "execution_count": null,
   "id": "efb1243f",
   "metadata": {},
   "outputs": [],
   "source": [
    "# play audio\n",
    "Audio(file_path, autoplay=False)"
   ]
  },
  {
   "cell_type": "code",
   "execution_count": null,
   "id": "f8c6ba9e",
   "metadata": {},
   "outputs": [],
   "source": [
    "dialog_list = []"
   ]
  },
  {
   "cell_type": "code",
   "execution_count": null,
   "id": "02700c0d",
   "metadata": {},
   "outputs": [],
   "source": [
    "prompt = \"привет! как дела?\""
   ]
  },
  {
   "cell_type": "code",
   "execution_count": null,
   "id": "fdd5f87d",
   "metadata": {},
   "outputs": [],
   "source": [
    "get_simple_chat(dialog_list, prompt, model='gpt-3.5-turbo')"
   ]
  },
  {
   "cell_type": "code",
   "execution_count": null,
   "id": "507015eb",
   "metadata": {},
   "outputs": [],
   "source": [
    "dialog_list"
   ]
  },
  {
   "cell_type": "code",
   "execution_count": null,
   "id": "c71dd276",
   "metadata": {},
   "outputs": [],
   "source": []
  },
  {
   "cell_type": "code",
   "execution_count": null,
   "id": "86105c82",
   "metadata": {},
   "outputs": [],
   "source": [
    "start_date = '2024-10-31'"
   ]
  },
  {
   "cell_type": "code",
   "execution_count": null,
   "id": "fb2b4cd4",
   "metadata": {},
   "outputs": [],
   "source": [
    "get_chat_gpt_costs(usage_path, pricing_path, start_date)"
   ]
  },
  {
   "cell_type": "code",
   "execution_count": null,
   "id": "31b0c27c",
   "metadata": {},
   "outputs": [],
   "source": []
  },
  {
   "cell_type": "code",
   "execution_count": 3,
   "id": "f22e1d16",
   "metadata": {},
   "outputs": [
    {
     "name": "stdout",
     "output_type": "stream",
     "text": [
      "Current balance: 9.93\n"
     ]
    },
    {
     "data": {
      "text/plain": [
       "9.93"
      ]
     },
     "execution_count": 3,
     "metadata": {},
     "output_type": "execute_result"
    }
   ],
   "source": [
    "get_current_balance(usage_path, biling_path)"
   ]
  }
 ],
 "metadata": {
  "kernelspec": {
   "display_name": "Python 3 (ipykernel)",
   "language": "python",
   "name": "python3"
  },
  "language_info": {
   "codemirror_mode": {
    "name": "ipython",
    "version": 3
   },
   "file_extension": ".py",
   "mimetype": "text/x-python",
   "name": "python",
   "nbconvert_exporter": "python",
   "pygments_lexer": "ipython3",
   "version": "3.11.3"
  }
 },
 "nbformat": 4,
 "nbformat_minor": 5
}
