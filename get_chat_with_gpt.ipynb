{
 "cells": [
  {
   "cell_type": "code",
   "execution_count": 1,
   "id": "b94a3166",
   "metadata": {},
   "outputs": [],
   "source": [
    "from openai import OpenAI\n",
    "import mysql.connector as connection\n",
    "import pandas as pd\n",
    "import warnings\n",
    "from datetime import datetime\n",
    "import os\n",
    "import pyodbc\n",
    "import warnings\n",
    "import requests\n",
    "\n",
    "from func_MySQL_DB import *\n",
    "from func_ChatGPT import *\n",
    "import config \n",
    "\n"
   ]
  },
  {
   "cell_type": "code",
   "execution_count": null,
   "id": "db7fc31f",
   "metadata": {},
   "outputs": [],
   "source": []
  },
  {
   "cell_type": "code",
   "execution_count": 2,
   "id": "fd93ceeb",
   "metadata": {},
   "outputs": [],
   "source": [
    "user_question = \"Какие расходы без ндс были за весь период?\""
   ]
  },
  {
   "cell_type": "code",
   "execution_count": 4,
   "id": "1a649e99",
   "metadata": {},
   "outputs": [],
   "source": [
    "sql_answer = get_sql_chain(user_question).replace('\\n', ' ')"
   ]
  },
  {
   "cell_type": "code",
   "execution_count": 5,
   "id": "a897cead",
   "metadata": {},
   "outputs": [
    {
     "data": {
      "text/plain": [
       "'SELECT SUM(costs_without_nds) AS total_costs_without_nds FROM yd_05_01_main_without_conv;'"
      ]
     },
     "execution_count": 5,
     "metadata": {},
     "output_type": "execute_result"
    }
   ],
   "source": [
    "sql_answer"
   ]
  },
  {
   "cell_type": "code",
   "execution_count": 3,
   "id": "9222b597",
   "metadata": {},
   "outputs": [
    {
     "data": {
      "text/plain": [
       "'За весь период общие расходы без учета НДС составили 813 253.52.'"
      ]
     },
     "execution_count": 3,
     "metadata": {},
     "output_type": "execute_result"
    }
   ],
   "source": [
    "get_db_answer(user_question)"
   ]
  }
 ],
 "metadata": {
  "kernelspec": {
   "display_name": "Python 3 (ipykernel)",
   "language": "python",
   "name": "python3"
  },
  "language_info": {
   "codemirror_mode": {
    "name": "ipython",
    "version": 3
   },
   "file_extension": ".py",
   "mimetype": "text/x-python",
   "name": "python",
   "nbconvert_exporter": "python",
   "pygments_lexer": "ipython3",
   "version": "3.11.3"
  }
 },
 "nbformat": 4,
 "nbformat_minor": 5
}
