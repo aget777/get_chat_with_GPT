{
 "cells": [
  {
   "cell_type": "code",
   "execution_count": 1,
   "id": "b94a3166",
   "metadata": {},
   "outputs": [],
   "source": [
    "from openai import OpenAI\n",
    "import mysql.connector as connection\n",
    "import pandas as pd\n",
    "import warnings\n",
    "from datetime import datetime\n",
    "import os\n",
    "import pyodbc\n",
    "import warnings\n",
    "import requests\n",
    "from IPython.display import Audio\n",
    "\n",
    "from func_MySQL_DB import *\n",
    "from func_ChatGPT import *\n",
    "from func_visualizations import *\n",
    "import config \n",
    "\n",
    "# забираем параметры подключения к БД\n",
    "server = config.server\n",
    "port = config.port\n",
    "database = config.database\n",
    "login = config.login\n",
    "passw = config.password"
   ]
  },
  {
   "cell_type": "code",
   "execution_count": null,
   "id": "db7fc31f",
   "metadata": {},
   "outputs": [],
   "source": []
  },
  {
   "cell_type": "code",
   "execution_count": 2,
   "id": "5059bd30",
   "metadata": {},
   "outputs": [],
   "source": [
    "user_question = \"Какие расходы без ндс по возрастным группам?\""
   ]
  },
  {
   "cell_type": "code",
   "execution_count": 3,
   "id": "1a649e99",
   "metadata": {},
   "outputs": [],
   "source": [
    "sql_answer = get_sql_chain(user_question).replace('\\n', ' ')"
   ]
  },
  {
   "cell_type": "code",
   "execution_count": 4,
   "id": "a897cead",
   "metadata": {},
   "outputs": [
    {
     "data": {
      "text/plain": [
       "'SELECT age, SUM(costs_without_nds) AS total_costs_without_nds FROM yd_05_01_main_without_conv GROUP BY age;'"
      ]
     },
     "execution_count": 4,
     "metadata": {},
     "output_type": "execute_result"
    }
   ],
   "source": [
    "sql_answer"
   ]
  },
  {
   "cell_type": "code",
   "execution_count": 5,
   "id": "e3aa1a80",
   "metadata": {},
   "outputs": [
    {
     "name": "stdout",
     "output_type": "stream",
     "text": [
      "Connection success\n"
     ]
    },
    {
     "name": "stderr",
     "output_type": "stream",
     "text": [
      "D:\\00_Downloads\\01_jupyter_test_files\\36_01_mysql_to_chatGPT\\func_MySQL_DB.py:82: UserWarning: pandas only supports SQLAlchemy connectable (engine/connection) or database string URI or sqlite3 DBAPI2 connection. Other DBAPI2 objects are not tested. Please consider using SQLAlchemy.\n",
      "  df = pd.read_sql(query, conn)\n"
     ]
    }
   ],
   "source": [
    "df = get_dataframe(server, database, login, passw, sql_answer, port)"
   ]
  },
  {
   "cell_type": "code",
   "execution_count": 7,
   "id": "d8031dab",
   "metadata": {},
   "outputs": [
    {
     "data": {
      "text/plain": [
       "Index(['age', 'total_costs_without_nds'], dtype='object')"
      ]
     },
     "execution_count": 7,
     "metadata": {},
     "output_type": "execute_result"
    }
   ],
   "source": [
    "df.columns"
   ]
  },
  {
   "cell_type": "code",
   "execution_count": 8,
   "id": "2ee93fda",
   "metadata": {},
   "outputs": [
    {
     "data": {
      "image/png": "[encoded data removed]",
      "text/plain": [
       "<Figure size 640x480 with 1 Axes>"
      ]
     },
     "metadata": {},
     "output_type": "display_data"
    }
   ],
   "source": [
    "get_visual_bar(df, 'age', 'total_costs_without_nds')"
   ]
  },
  {
   "cell_type": "code",
   "execution_count": null,
   "id": "4d290a93",
   "metadata": {},
   "outputs": [],
   "source": []
  },
  {
   "cell_type": "code",
   "execution_count": null,
   "id": "d4012011",
   "metadata": {},
   "outputs": [],
   "source": [
    "user_question = \"Какие расходы без ндс были за весь период?Напиши цифры прописью\""
   ]
  },
  {
   "cell_type": "code",
   "execution_count": null,
   "id": "60d6a7e7",
   "metadata": {},
   "outputs": [],
   "source": [
    "gpt_answer = get_db_answer(user_question)"
   ]
  },
  {
   "cell_type": "code",
   "execution_count": null,
   "id": "3049cc83",
   "metadata": {},
   "outputs": [],
   "source": [
    "gpt_answer"
   ]
  },
  {
   "cell_type": "code",
   "execution_count": null,
   "id": "762a52a6",
   "metadata": {},
   "outputs": [],
   "source": [
    "file_path = os.path.join(os.getcwd(), \"speech.mp3\")"
   ]
  },
  {
   "cell_type": "code",
   "execution_count": null,
   "id": "9ac33882",
   "metadata": {},
   "outputs": [],
   "source": [
    "get_voice_gpt(gpt_answer, file_path)"
   ]
  },
  {
   "cell_type": "code",
   "execution_count": null,
   "id": "a116a9f7",
   "metadata": {},
   "outputs": [],
   "source": [
    "# play audio\n",
    "Audio(file_path, autoplay=False)"
   ]
  },
  {
   "cell_type": "code",
   "execution_count": null,
   "id": "e033bcf2",
   "metadata": {},
   "outputs": [],
   "source": [
    "dialog_list = []"
   ]
  },
  {
   "cell_type": "code",
   "execution_count": null,
   "id": "199b2143",
   "metadata": {},
   "outputs": [],
   "source": [
    "prompt = \"привет! как дела?\""
   ]
  },
  {
   "cell_type": "code",
   "execution_count": null,
   "id": "d0675b08",
   "metadata": {},
   "outputs": [],
   "source": [
    "get_simple_chat(dialog_list, prompt, model='gpt-3.5-turbo')"
   ]
  },
  {
   "cell_type": "code",
   "execution_count": null,
   "id": "87ab0efd",
   "metadata": {},
   "outputs": [],
   "source": [
    "dialog_list"
   ]
  }
 ],
 "metadata": {
  "kernelspec": {
   "display_name": "Python 3 (ipykernel)",
   "language": "python",
   "name": "python3"
  },
  "language_info": {
   "codemirror_mode": {
    "name": "ipython",
    "version": 3
   },
   "file_extension": ".py",
   "mimetype": "text/x-python",
   "name": "python",
   "nbconvert_exporter": "python",
   "pygments_lexer": "ipython3",
   "version": "3.11.3"
  }
 },
 "nbformat": 4,
 "nbformat_minor": 5
}
