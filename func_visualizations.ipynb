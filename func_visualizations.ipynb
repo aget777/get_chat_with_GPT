{
 "cells": [
  {
   "cell_type": "code",
   "execution_count": 1,
   "id": "fcb78b87",
   "metadata": {},
   "outputs": [],
   "source": [
    "import pandas as pd\n",
    "import matplotlib.pyplot as plt"
   ]
  },
  {
   "cell_type": "code",
   "execution_count": null,
   "id": "3a5580f9",
   "metadata": {},
   "outputs": [],
   "source": [
    "# создаем визуализацию в виде гистограммы\n",
    "# column_1 - это параметр\n",
    "# column_2 - это показатель\n",
    "\n",
    "def get_visual_bar(df, column_1, column_2, rotation=45):\n",
    "    plt.bar(df[column_1], df[column_2])\n",
    "    plt.xticks(rotation=rotation)\n",
    "    plt.show()"
   ]
  }
 ],
 "metadata": {
  "kernelspec": {
   "display_name": "Python 3 (ipykernel)",
   "language": "python",
   "name": "python3"
  },
  "language_info": {
   "codemirror_mode": {
    "name": "ipython",
    "version": 3
   },
   "file_extension": ".py",
   "mimetype": "text/x-python",
   "name": "python",
   "nbconvert_exporter": "python",
   "pygments_lexer": "ipython3",
   "version": "3.11.3"
  }
 },
 "nbformat": 4,
 "nbformat_minor": 5
}
